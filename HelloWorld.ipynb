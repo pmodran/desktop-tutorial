{
 "cells": [
  {
   "cell_type": "code",
   "execution_count": 2,
   "id": "4df070d7-e639-41ea-b25d-4cab3c2fd0c2",
   "metadata": {},
   "outputs": [
    {
     "name": "stdout",
     "output_type": "stream",
     "text": [
      "Training features---------------------------------------------------------------------------\n",
      "    age  gender\n",
      "7    33       1\n",
      "17   35       0\n",
      "8    37       1\n",
      "13   27       0\n",
      "3    26       1\n",
      "2    25       1\n",
      "11   25       0\n",
      "1    23       1\n",
      "4    29       1\n",
      "0    20       1\n",
      "5    30       1\n",
      "16   34       0\n",
      "14   30       0\n",
      "9    20       0\n",
      "Testing features---------------------------------------------------------------------------\n",
      "    age  gender\n",
      "6    31       1\n",
      "15   31       0\n",
      "10   21       0\n",
      "12   26       0\n",
      "Training output---------------------------------------------------------------------------\n",
      "7     Classical\n",
      "17    Classical\n",
      "8     Classical\n",
      "13     Acoustic\n",
      "3          Jazz\n",
      "2        HipHop\n",
      "11        Dance\n",
      "1        HipHop\n",
      "4          Jazz\n",
      "0        HipHop\n",
      "5          Jazz\n",
      "16    Classical\n",
      "14     Acoustic\n",
      "9         Dance\n",
      "Name: genre, dtype: object\n",
      "!!!!!!!!!!DESIRED OUTPUT---------------------------------------------------------------------------\n",
      "6     Classical\n",
      "15    Classical\n",
      "10        Dance\n",
      "12     Acoustic\n",
      "Name: genre, dtype: object\n",
      "---------------------------\n",
      "---------------------------\n",
      "---------------------------\n",
      "PREDICTIONS MADE\n",
      "['Jazz' 'Acoustic' 'Dance' 'Acoustic']\n",
      "---------------------------\n",
      "---------------------------\n",
      "---------------------------\n"
     ]
    },
    {
     "data": {
      "text/plain": [
       "0.5"
      ]
     },
     "execution_count": 2,
     "metadata": {},
     "output_type": "execute_result"
    }
   ],
   "source": [
    "import pandas as pd #for the data \n",
    "from sklearn.tree import DecisionTreeClassifier # the decisiontree model\n",
    "\n",
    "#For splitting the dataset into training and testing data\n",
    "from sklearn.model_selection import train_test_split\n",
    "\n",
    "#For testing the results \n",
    "from sklearn.metrics import accuracy_score\n",
    "\n",
    "\n",
    "#Reading the csv file located in the folder using pandas dataset\n",
    "music_data = pd.read_csv('music.csv')\n",
    "#Separating the dataset into 2 datasets : first 2 columns will be INSPUT and the last column will be OUTPUT\n",
    "X = music_data.drop(columns=['genre']) # input\n",
    "y = music_data['genre']  # output\n",
    "\n",
    "# splitting the data into 80% train and 20% test\n",
    "X_train,X_test,y_train,y_test = train_test_split(X, y, test_size = 0.2)\n",
    "print('Training features---------------------------------------------------------------------------')\n",
    "print(X_train)\n",
    "print('Testing features---------------------------------------------------------------------------')\n",
    "print(X_test)\n",
    "print('Training output---------------------------------------------------------------------------')\n",
    "print(y_train)\n",
    "print('!!!!!!!!!!DESIRED OUTPUT---------------------------------------------------------------------------')\n",
    "print(y_test)\n",
    "\n",
    "# using the decision tree from scikit learn\n",
    "model = DecisionTreeClassifier()\n",
    "#Fitting the model on our data\n",
    "model.fit(X_train, y_train)\n",
    "#Predicting a new output\n",
    "\n",
    "predictions = model.predict(X_test)\n",
    "print('---------------------------')\n",
    "print('---------------------------')\n",
    "print('---------------------------')\n",
    "print('PREDICTIONS MADE')\n",
    "print(predictions)\n",
    "print('---------------------------')\n",
    "print('---------------------------')\n",
    "print('---------------------------')\n",
    "\n",
    "\n",
    "#displaying the accuracy score\n",
    "accuracy_score(y_test, predictions)"
   ]
  }
 ],
 "metadata": {
  "kernelspec": {
   "display_name": "mp1_env",
   "language": "python",
   "name": "python3"
  },
  "language_info": {
   "codemirror_mode": {
    "name": "ipython",
    "version": 3
   },
   "file_extension": ".py",
   "mimetype": "text/x-python",
   "name": "python",
   "nbconvert_exporter": "python",
   "pygments_lexer": "ipython3",
   "version": "3.12.3"
  }
 },
 "nbformat": 4,
 "nbformat_minor": 5
}
