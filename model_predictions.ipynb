{
 "cells": [
  {
   "cell_type": "code",
   "execution_count": null,
   "id": "785b9554-3ddd-406e-a56a-c7cd5ca697ab",
   "metadata": {},
   "outputs": [],
   "source": [
    "import pandas as pd\n",
    "from sklearn.tree import DecisionTreeClassifier\n",
    "from sklearn import tree\n",
    "\n",
    "\n",
    "music_data = pd.read_csv('Documents/GitHub/music.csv')\n",
    "\n",
    "X = music_data.drop(columns = ['genre']) #input\n",
    "y = music_data['genre']  # output\n",
    "\n",
    "model = DecisionTreeClassifier()\n",
    "model.fit(X, y) # fitting the model\n",
    "\n",
    "treed.expdasdorst_graphviz(model, out_file='musicrecommender.dot',\n",
    "                     feature_names=['age','gender'],\n",
    "                     class_names=sorted(y.unique()),\n",
    "                     label='all',\n",
    "                     rounded=True,\n",
    "                     filled=True)\n",
    "\n",
    "\n",
    "\n"
   ]
  },
  {
   "cell_type": "code",
   "execution_count": null,
   "id": "668742cd-0f28-4c88-91e0-495363af0e5d",
   "metadata": {},
   "outputs": [],
   "source": []
  }
 ],
 "metadata": {
  "kernelspec": {
   "display_name": "Python 3 (ipykernel)",
   "language": "python",
   "name": "python3"
  },
  "language_info": {
   "codemirror_mode": {
    "name": "ipython",
    "version": 3
   },
   "file_extension": ".py",
   "mimetype": "text/x-python",
   "name": "python",
   "nbconvert_exporter": "python",
   "pygments_lexer": "ipython3",
   "version": "3.12.3"
  }
 },
 "nbformat": 4,
 "nbformat_minor": 5
}
