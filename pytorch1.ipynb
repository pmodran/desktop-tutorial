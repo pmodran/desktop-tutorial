{
 "cells": [
  {
   "cell_type": "code",
   "execution_count": 1,
   "metadata": {},
   "outputs": [],
   "source": [
    "import torch"
   ]
  },
  {
   "cell_type": "code",
   "execution_count": null,
   "metadata": {},
   "outputs": [],
   "source": [
    "t2 = torch.tensor([[[1,2,3],\n",
    "                    [4,5,6],\n",
    "                    [7,8,9]],\n",
    "\n",
    "                   [[11,22,33],\n",
    "                    [44,55,66],\n",
    "                    [77,88,99]],\n",
    "\n",
    "                   [[111,222,333],\n",
    "                    [444,555,666],\n",
    "                    [777,888,999]],])\n",
    "\n",
    "\n",
    "\n",
    "\n",
    "t3 = torch.tensor([[1,2,3],[1,2,3],[1,2,3]])"
   ]
  },
  {
   "cell_type": "code",
   "execution_count": 27,
   "metadata": {},
   "outputs": [
    {
     "name": "stdout",
     "output_type": "stream",
     "text": [
      "3\n",
      "2\n"
     ]
    }
   ],
   "source": [
    "print(t2.ndim)\n",
    "print(t3.ndim)"
   ]
  },
  {
   "cell_type": "code",
   "execution_count": 40,
   "metadata": {},
   "outputs": [
    {
     "name": "stdout",
     "output_type": "stream",
     "text": [
      "tensor(6)\n"
     ]
    }
   ],
   "source": [
    "print(t2[0][1][2])  # first matrix, second row , third column -> expected 6"
   ]
  },
  {
   "cell_type": "code",
   "execution_count": 35,
   "metadata": {},
   "outputs": [
    {
     "name": "stdout",
     "output_type": "stream",
     "text": [
      "torch.Size([3, 3, 3])\n",
      "torch.Size([3, 3])\n"
     ]
    }
   ],
   "source": [
    "print(t2.shape)\n",
    "print(t3.shape)"
   ]
  }
 ],
 "metadata": {
  "kernelspec": {
   "display_name": "mp1_env",
   "language": "python",
   "name": "python3"
  },
  "language_info": {
   "codemirror_mode": {
    "name": "ipython",
    "version": 3
   },
   "file_extension": ".py",
   "mimetype": "text/x-python",
   "name": "python",
   "nbconvert_exporter": "python",
   "pygments_lexer": "ipython3",
   "version": "3.12.3"
  }
 },
 "nbformat": 4,
 "nbformat_minor": 2
}
